{
 "cells": [
  {
   "cell_type": "code",
   "execution_count": 843,
   "outputs": [],
   "source": [
    "import numpy as np\n",
    "import pandas as pd\n",
    "from sklearn.metrics import accuracy_score, precision_score, recall_score, f1_score\n",
    "from sklearn.ensemble import RandomForestClassifier\n",
    "from sklearn.linear_model import LogisticRegression\n",
    "from sklearn.svm import SVC\n",
    "from sklearn.ensemble import GradientBoostingClassifier\n",
    "import FeatureEngineering\n",
    "from sklearn.model_selection import train_test_split\n",
    "from sklearn.pipeline import Pipeline, make_pipeline\n",
    "from joblib import Parallel, delayed\n",
    "from sklearn.model_selection import cross_validate, StratifiedKFold\n",
    "from sklearn.metrics import make_scorer, recall_score, precision_score\n",
    "from sklearn.metrics import roc_auc_score \n",
    "from sklearn.compose import ColumnTransformer"
   ],
   "metadata": {
    "collapsed": false,
    "ExecuteTime": {
     "end_time": "2024-05-27T06:43:18.750302Z",
     "start_time": "2024-05-27T06:43:18.707847900Z"
    }
   },
   "id": "9ba85b082df3db47"
  },
  {
   "cell_type": "code",
   "execution_count": 713,
   "outputs": [],
   "source": [
    "dataset = FeatureEngineering.createData(15.00)\n",
    "X = dataset.iloc[:,3:].drop(columns=['final_result'])\n",
    "y = dataset['final_result']\n",
    "mapping = {'Pass': 0, 'Withdrawn': 1, 'Distinction': 2}\n",
    "y_encoded = y.map(mapping)"
   ],
   "metadata": {
    "collapsed": false,
    "ExecuteTime": {
     "end_time": "2024-05-26T15:56:10.196915500Z",
     "start_time": "2024-05-26T15:55:45.959492700Z"
    }
   },
   "id": "3bd48d648fa6c0f9"
  },
  {
   "cell_type": "code",
   "execution_count": 752,
   "outputs": [],
   "source": [
    "models = [\n",
    "    RandomForestClassifier(n_estimators=500,random_state=42),\n",
    "    GradientBoostingClassifier(n_estimators=500,random_state=43),\n",
    "    SVC(probability=True,random_state=44),\n",
    "    LogisticRegression(random_state=45)\n",
    "]\n",
    "\n",
    "def evaluate_model(model,X,y,preprocessor,stratified_kfold,scoring):\n",
    "    pipeline = make_pipeline(preprocessor,model)\n",
    "    return cross_validate(pipeline,X,y,cv=stratified_kfold,scoring=scoring,return_train_score=True)\n",
    "\n",
    "preprocessor = FeatureEngineering.create_preprocessor(X)\n",
    "scoring = {'precision_class_1':make_scorer(precision_score,labels=[1],average=None),\n",
    "          'recall_class_1':make_scorer(recall_score,labels=[1],average=None)}\n",
    "stratified_kfold = StratifiedKFold(n_splits=4)\n",
    "\n",
    "cross_val_scores = Parallel(n_jobs=4)(\n",
    "    delayed(evaluate_model)(model,X,y_encoded, preprocessor,stratified_kfold,scoring) for model in models\n",
    ")"
   ],
   "metadata": {
    "collapsed": false,
    "ExecuteTime": {
     "end_time": "2024-05-26T20:10:48.680185700Z",
     "start_time": "2024-05-26T19:38:41.053514300Z"
    }
   },
   "id": "a6dfd52e308d0838"
  },
  {
   "cell_type": "code",
   "execution_count": 772,
   "outputs": [
    {
     "data": {
      "text/plain": "     fit_time  score_time  test_precision_class_1  train_precision_class_1  \\\n0   62.284590    1.048157                0.614351                 1.000000   \n1   56.796354    1.734053                0.479306                 0.999868   \n2   57.400762    1.103153                0.580828                 1.000000   \n3   56.922791    1.648499                0.592202                 1.000000   \n0  374.185276    0.333915                0.585572                 0.823671   \n1  303.480785    0.215219                0.500850                 0.858888   \n2  325.499863    0.330402                0.579899                 0.845522   \n3  343.245556    0.361990                0.596093                 0.840776   \n0  486.317586   25.828110                0.663838                 0.813507   \n1  461.946244   29.405070                0.533135                 0.854985   \n2  363.766825   14.830366                0.679299                 0.832963   \n3  265.462361   14.861156                0.628450                 0.833249   \n0    1.618060    0.064105                0.670358                 0.746248   \n1    1.523697    0.061362                0.558130                 0.786089   \n2    2.345369    0.085748                0.705589                 0.758906   \n3    1.790898    0.071587                0.619093                 0.767781   \n\n   test_recall_class_1  train_recall_class_1                         model  \n0             0.742574              1.000000     Random Forrest Classifier  \n1             0.568713              1.000000     Random Forrest Classifier  \n2             0.527921              0.999868     Random Forrest Classifier  \n3             0.511287              0.999868     Random Forrest Classifier  \n0             0.794059              0.723960  Gradient Boosting Classifier  \n1             0.583366              0.742442  Gradient Boosting Classifier  \n2             0.546139              0.734125  Gradient Boosting Classifier  \n3             0.519604              0.738218  Gradient Boosting Classifier  \n0             0.712475              0.659934                           SVC  \n1             0.497030              0.657690                           SVC  \n2             0.475644              0.643168                           SVC  \n3             0.468911              0.653729                           SVC  \n0             0.719208              0.630099           Logistic Regression  \n1             0.534257              0.652013           Logistic Regression  \n2             0.504950              0.629967           Logistic Regression  \n3             0.518812              0.645545           Logistic Regression  ",
      "text/html": "<div>\n<style scoped>\n    .dataframe tbody tr th:only-of-type {\n        vertical-align: middle;\n    }\n\n    .dataframe tbody tr th {\n        vertical-align: top;\n    }\n\n    .dataframe thead th {\n        text-align: right;\n    }\n</style>\n<table border=\"1\" class=\"dataframe\">\n  <thead>\n    <tr style=\"text-align: right;\">\n      <th></th>\n      <th>fit_time</th>\n      <th>score_time</th>\n      <th>test_precision_class_1</th>\n      <th>train_precision_class_1</th>\n      <th>test_recall_class_1</th>\n      <th>train_recall_class_1</th>\n      <th>model</th>\n    </tr>\n  </thead>\n  <tbody>\n    <tr>\n      <th>0</th>\n      <td>62.284590</td>\n      <td>1.048157</td>\n      <td>0.614351</td>\n      <td>1.000000</td>\n      <td>0.742574</td>\n      <td>1.000000</td>\n      <td>Random Forrest Classifier</td>\n    </tr>\n    <tr>\n      <th>1</th>\n      <td>56.796354</td>\n      <td>1.734053</td>\n      <td>0.479306</td>\n      <td>0.999868</td>\n      <td>0.568713</td>\n      <td>1.000000</td>\n      <td>Random Forrest Classifier</td>\n    </tr>\n    <tr>\n      <th>2</th>\n      <td>57.400762</td>\n      <td>1.103153</td>\n      <td>0.580828</td>\n      <td>1.000000</td>\n      <td>0.527921</td>\n      <td>0.999868</td>\n      <td>Random Forrest Classifier</td>\n    </tr>\n    <tr>\n      <th>3</th>\n      <td>56.922791</td>\n      <td>1.648499</td>\n      <td>0.592202</td>\n      <td>1.000000</td>\n      <td>0.511287</td>\n      <td>0.999868</td>\n      <td>Random Forrest Classifier</td>\n    </tr>\n    <tr>\n      <th>0</th>\n      <td>374.185276</td>\n      <td>0.333915</td>\n      <td>0.585572</td>\n      <td>0.823671</td>\n      <td>0.794059</td>\n      <td>0.723960</td>\n      <td>Gradient Boosting Classifier</td>\n    </tr>\n    <tr>\n      <th>1</th>\n      <td>303.480785</td>\n      <td>0.215219</td>\n      <td>0.500850</td>\n      <td>0.858888</td>\n      <td>0.583366</td>\n      <td>0.742442</td>\n      <td>Gradient Boosting Classifier</td>\n    </tr>\n    <tr>\n      <th>2</th>\n      <td>325.499863</td>\n      <td>0.330402</td>\n      <td>0.579899</td>\n      <td>0.845522</td>\n      <td>0.546139</td>\n      <td>0.734125</td>\n      <td>Gradient Boosting Classifier</td>\n    </tr>\n    <tr>\n      <th>3</th>\n      <td>343.245556</td>\n      <td>0.361990</td>\n      <td>0.596093</td>\n      <td>0.840776</td>\n      <td>0.519604</td>\n      <td>0.738218</td>\n      <td>Gradient Boosting Classifier</td>\n    </tr>\n    <tr>\n      <th>0</th>\n      <td>486.317586</td>\n      <td>25.828110</td>\n      <td>0.663838</td>\n      <td>0.813507</td>\n      <td>0.712475</td>\n      <td>0.659934</td>\n      <td>SVC</td>\n    </tr>\n    <tr>\n      <th>1</th>\n      <td>461.946244</td>\n      <td>29.405070</td>\n      <td>0.533135</td>\n      <td>0.854985</td>\n      <td>0.497030</td>\n      <td>0.657690</td>\n      <td>SVC</td>\n    </tr>\n    <tr>\n      <th>2</th>\n      <td>363.766825</td>\n      <td>14.830366</td>\n      <td>0.679299</td>\n      <td>0.832963</td>\n      <td>0.475644</td>\n      <td>0.643168</td>\n      <td>SVC</td>\n    </tr>\n    <tr>\n      <th>3</th>\n      <td>265.462361</td>\n      <td>14.861156</td>\n      <td>0.628450</td>\n      <td>0.833249</td>\n      <td>0.468911</td>\n      <td>0.653729</td>\n      <td>SVC</td>\n    </tr>\n    <tr>\n      <th>0</th>\n      <td>1.618060</td>\n      <td>0.064105</td>\n      <td>0.670358</td>\n      <td>0.746248</td>\n      <td>0.719208</td>\n      <td>0.630099</td>\n      <td>Logistic Regression</td>\n    </tr>\n    <tr>\n      <th>1</th>\n      <td>1.523697</td>\n      <td>0.061362</td>\n      <td>0.558130</td>\n      <td>0.786089</td>\n      <td>0.534257</td>\n      <td>0.652013</td>\n      <td>Logistic Regression</td>\n    </tr>\n    <tr>\n      <th>2</th>\n      <td>2.345369</td>\n      <td>0.085748</td>\n      <td>0.705589</td>\n      <td>0.758906</td>\n      <td>0.504950</td>\n      <td>0.629967</td>\n      <td>Logistic Regression</td>\n    </tr>\n    <tr>\n      <th>3</th>\n      <td>1.790898</td>\n      <td>0.071587</td>\n      <td>0.619093</td>\n      <td>0.767781</td>\n      <td>0.518812</td>\n      <td>0.645545</td>\n      <td>Logistic Regression</td>\n    </tr>\n  </tbody>\n</table>\n</div>"
     },
     "execution_count": 772,
     "metadata": {},
     "output_type": "execute_result"
    }
   ],
   "source": [
    "cross_val_result_df = pd.concat(\n",
    "    [pd.concat([pd.DataFrame(cross_val_scores[0]),pd.Series([\"Random Forrest Classifier\"]*4,name='model')],axis=1),\n",
    "     pd.concat([pd.DataFrame(cross_val_scores[1]),pd.Series([\"Gradient Boosting Classifier\"]*4,name='model')],axis=1),\n",
    "     pd.concat([pd.DataFrame(cross_val_scores[2]),pd.Series([\"SVC\"]*4,name='model')],axis=1) ,\n",
    "     pd.concat([pd.DataFrame(cross_val_scores[3]),pd.Series([\"Logistic Regression\"]*4,name='model')],axis=1)\n",
    "    ],axis=0\n",
    ")\n",
    "cross_val_result_df"
   ],
   "metadata": {
    "collapsed": false,
    "ExecuteTime": {
     "end_time": "2024-05-26T21:21:13.338823600Z",
     "start_time": "2024-05-26T21:21:13.299029100Z"
    }
   },
   "id": "1e721ff800a65cba"
  },
  {
   "cell_type": "code",
   "execution_count": 716,
   "outputs": [],
   "source": [
    "dataset = FeatureEngineering.createData(15.00)\n",
    "X = dataset.iloc[:,3:].drop(columns=['final_result'])\n",
    "y = dataset['final_result']\n",
    "mapping = {'Pass': 0, 'Withdrawn': 1, 'Distinction': 2}\n",
    "y_encoded = y.map(mapping)\n",
    "preprocessor = FeatureEngineering.create_preprocessor(X) # column transformer \n",
    "X_train, X_test, y_train, y_test = train_test_split(X,y_encoded,test_size=0.2,random_state=42,stratify=y_encoded) # for train and evaluate\n",
    "\n",
    "def train_and_evaluate(model):\n",
    "    global preprocessor\n",
    "    global X_train, X_test, y_train, y_test\n",
    "    pipeline = make_pipeline(preprocessor,model) \n",
    "    pipeline.fit(X_train,y_train)\n",
    "    y_pred = pipeline.predict(X_test)\n",
    "    precision = precision_score(y_test,y_pred,labels=[1],average='weighted')\n",
    "    recall = recall_score(y_test,y_pred,labels=[1],average='weighted')\n",
    "    accuracy = accuracy_score(y_test,y_pred)\n",
    "    probabilities = pipeline.predict_proba(X_test)\n",
    "    \n",
    "    result_dictionary = {\n",
    "        'model_name':model.__class__.__name__,\n",
    "        'precision':precision,\n",
    "        'recall':recall,\n",
    "        'accuracy':accuracy,\n",
    "        'y_probabilities':pd.DataFrame(probabilities)\n",
    "    }\n",
    "    \n",
    "    return result_dictionary"
   ],
   "metadata": {
    "collapsed": false,
    "ExecuteTime": {
     "end_time": "2024-05-26T15:56:54.823343800Z",
     "start_time": "2024-05-26T15:56:36.181707600Z"
    }
   },
   "id": "a9057c9b9fd82fc0"
  },
  {
   "cell_type": "code",
   "execution_count": 717,
   "outputs": [],
   "source": [
    "models = [\n",
    "    RandomForestClassifier(n_estimators=500,random_state=42),\n",
    "    GradientBoostingClassifier(n_estimators=500,random_state=42),\n",
    "    SVC(probability=True,random_state=42),\n",
    "    LogisticRegression(random_state=42)\n",
    "]"
   ],
   "metadata": {
    "collapsed": false,
    "ExecuteTime": {
     "end_time": "2024-05-26T15:56:57.685065800Z",
     "start_time": "2024-05-26T15:56:57.642883700Z"
    }
   },
   "id": "14386a6ef2fd5f0e"
  },
  {
   "cell_type": "code",
   "execution_count": 718,
   "outputs": [],
   "source": [
    "result = Parallel(n_jobs=4)(\n",
    "    delayed(train_and_evaluate)(model) for model in models\n",
    ")"
   ],
   "metadata": {
    "collapsed": false,
    "ExecuteTime": {
     "end_time": "2024-05-26T16:06:20.774683400Z",
     "start_time": "2024-05-26T15:56:59.570053800Z"
    }
   },
   "id": "9fa46e205d703612"
  },
  {
   "cell_type": "code",
   "execution_count": 719,
   "outputs": [
    {
     "data": {
      "text/plain": "[{'model_name': 'RandomForestClassifier',\n  'precision': 0.7818877551020408,\n  'recall': 0.6069306930693069,\n  'accuracy': 0.665553809897879,\n  'y_probabilities':           0      1      2\n  0     0.626  0.274  0.100\n  1     0.356  0.618  0.026\n  2     0.608  0.242  0.150\n  3     0.022  0.974  0.004\n  4     0.798  0.050  0.152\n  ...     ...    ...    ...\n  5087  0.622  0.130  0.248\n  5088  0.626  0.242  0.132\n  5089  0.000  0.996  0.004\n  5090  0.604  0.120  0.276\n  5091  0.652  0.204  0.144\n  \n  [5092 rows x 3 columns]},\n {'model_name': 'GradientBoostingClassifier',\n  'precision': 0.7684583579444773,\n  'recall': 0.6440594059405941,\n  'accuracy': 0.6704634721131186,\n  'y_probabilities':              0         1         2\n  0     0.719002  0.189257  0.091741\n  1     0.156238  0.824491  0.019271\n  2     0.480536  0.392100  0.127364\n  3     0.038048  0.954280  0.007672\n  4     0.644640  0.102843  0.252516\n  ...        ...       ...       ...\n  5087  0.484410  0.148607  0.366983\n  5088  0.578057  0.312849  0.109094\n  5089  0.033101  0.957958  0.008941\n  5090  0.718990  0.083819  0.197190\n  5091  0.727089  0.143084  0.129827\n  \n  [5092 rows x 3 columns]},\n {'model_name': 'SVC',\n  'precision': 0.8044206296048225,\n  'recall': 0.5945544554455445,\n  'accuracy': 0.6694815396700707,\n  'y_probabilities':              0         1         2\n  0     0.739532  0.140214  0.120255\n  1     0.113405  0.854360  0.032234\n  2     0.625793  0.271299  0.102908\n  3     0.070595  0.906109  0.023296\n  4     0.739740  0.106903  0.153356\n  ...        ...       ...       ...\n  5087  0.683573  0.160519  0.155908\n  5088  0.664026  0.218276  0.117697\n  5089  0.083815  0.870558  0.045627\n  5090  0.674151  0.164327  0.161522\n  5091  0.698870  0.198165  0.102964\n  \n  [5092 rows x 3 columns]},\n {'model_name': 'LogisticRegression',\n  'precision': 0.7554766133806986,\n  'recall': 0.6316831683168317,\n  'accuracy': 0.6626080125687352,\n  'y_probabilities':              0         1         2\n  0     0.646903  0.203910  0.149187\n  1     0.224414  0.760441  0.015145\n  2     0.680324  0.290251  0.029425\n  3     0.059769  0.933917  0.006313\n  4     0.632300  0.087859  0.279841\n  ...        ...       ...       ...\n  5087  0.667217  0.177118  0.155665\n  5088  0.644850  0.271089  0.084061\n  5089  0.079897  0.907541  0.012562\n  5090  0.644084  0.125158  0.230758\n  5091  0.674589  0.175926  0.149485\n  \n  [5092 rows x 3 columns]}]"
     },
     "execution_count": 719,
     "metadata": {},
     "output_type": "execute_result"
    }
   ],
   "source": [
    "result"
   ],
   "metadata": {
    "collapsed": false,
    "ExecuteTime": {
     "end_time": "2024-05-26T16:06:38.926260Z",
     "start_time": "2024-05-26T16:06:38.878895800Z"
    }
   },
   "id": "5a388e9267097c19"
  },
  {
   "cell_type": "code",
   "execution_count": 721,
   "outputs": [
    {
     "name": "stdout",
     "output_type": "stream",
     "text": [
      "RandomForestClassifier: Precision - 0.7818877551020408, Recall - 0.6069306930693069, Accuracy - 0.665553809897879\n",
      "GradientBoostingClassifier: Precision - 0.7684583579444773, Recall - 0.6440594059405941, Accuracy - 0.6704634721131186\n",
      "SVC: Precision - 0.8044206296048225, Recall - 0.5945544554455445, Accuracy - 0.6694815396700707\n",
      "LogisticRegression: Precision - 0.7554766133806986, Recall - 0.6316831683168317, Accuracy - 0.6626080125687352\n"
     ]
    }
   ],
   "source": [
    "for model_result in result:\n",
    "    print(f\"{model_result['model_name']}: Precision - {model_result['precision']}, Recall - {model_result['recall']}, Accuracy - {model_result['accuracy']}\")"
   ],
   "metadata": {
    "collapsed": false,
    "ExecuteTime": {
     "end_time": "2024-05-26T16:06:44.496612600Z",
     "start_time": "2024-05-26T16:06:44.461054400Z"
    }
   },
   "id": "7e922268afd1bd5c"
  },
  {
   "cell_type": "code",
   "execution_count": 722,
   "outputs": [],
   "source": [
    "model_scores = pd.DataFrame(result)"
   ],
   "metadata": {
    "collapsed": false,
    "ExecuteTime": {
     "end_time": "2024-05-26T16:06:47.843777100Z",
     "start_time": "2024-05-26T16:06:47.825556Z"
    }
   },
   "id": "c9af29fb905275ce"
  },
  {
   "cell_type": "code",
   "execution_count": 723,
   "outputs": [],
   "source": [
    "list_of_probs = []\n",
    "for model_result in result:\n",
    "    name = model_result['model_name']\n",
    "    y_pred_and_true = np.concatenate((model_result['y_probabilities'],y_test.to_numpy().reshape(-1,1)),axis=-1)\n",
    "    list_of_probs.append(y_pred_and_true)"
   ],
   "metadata": {
    "collapsed": false,
    "ExecuteTime": {
     "end_time": "2024-05-26T16:06:50.876787100Z",
     "start_time": "2024-05-26T16:06:50.828513200Z"
    }
   },
   "id": "b67132e0ad4c917d"
  },
  {
   "cell_type": "code",
   "execution_count": 724,
   "outputs": [
    {
     "data": {
      "text/plain": "[array([[0.626, 0.274, 0.1  , 0.   ],\n        [0.356, 0.618, 0.026, 1.   ],\n        [0.608, 0.242, 0.15 , 2.   ],\n        ...,\n        [0.   , 0.996, 0.004, 1.   ],\n        [0.604, 0.12 , 0.276, 0.   ],\n        [0.652, 0.204, 0.144, 0.   ]]),\n array([[0.71900209, 0.18925671, 0.0917412 , 0.        ],\n        [0.15623802, 0.82449133, 0.01927065, 1.        ],\n        [0.48053593, 0.39209978, 0.12736429, 2.        ],\n        ...,\n        [0.03310112, 0.9579582 , 0.00894069, 1.        ],\n        [0.71899046, 0.08381937, 0.19719017, 0.        ],\n        [0.7270894 , 0.14308394, 0.12982667, 0.        ]]),\n array([[0.7395317 , 0.14021354, 0.12025475, 0.        ],\n        [0.11340542, 0.85436032, 0.03223426, 1.        ],\n        [0.62579274, 0.27129882, 0.10290843, 2.        ],\n        ...,\n        [0.08381547, 0.87055769, 0.04562685, 1.        ],\n        [0.67415149, 0.16432652, 0.16152199, 0.        ],\n        [0.69887032, 0.19816548, 0.1029642 , 0.        ]]),\n array([[0.6469027 , 0.20391011, 0.14918719, 0.        ],\n        [0.22441439, 0.76044057, 0.01514504, 1.        ],\n        [0.68032375, 0.29025148, 0.02942477, 2.        ],\n        ...,\n        [0.07989726, 0.90754121, 0.01256152, 1.        ],\n        [0.64408351, 0.12515847, 0.23075802, 0.        ],\n        [0.67458914, 0.17592618, 0.14948467, 0.        ]])]"
     },
     "execution_count": 724,
     "metadata": {},
     "output_type": "execute_result"
    }
   ],
   "source": [
    "list_of_probs"
   ],
   "metadata": {
    "collapsed": false,
    "ExecuteTime": {
     "end_time": "2024-05-26T16:06:53.554952900Z",
     "start_time": "2024-05-26T16:06:53.528418200Z"
    }
   },
   "id": "f933c77f2812a46c"
  },
  {
   "cell_type": "code",
   "execution_count": 725,
   "outputs": [],
   "source": [
    "def get_auc_score(y_pred_and_true,class1,class2): \n",
    "    # class1 = 0, class2 = 1\n",
    "    \n",
    "    df = pd.DataFrame(y_pred_and_true, columns=['prob_class_0', 'prob_class_1', 'prob_class_2', 'true_class'])\n",
    "\n",
    "    # filter observacija tako da uključuju samo klase 0 i 1 \n",
    "    binary_df = df[df['true_class'].isin([class1, class2])] \n",
    "\n",
    "    # ekstrakcija stvarnih labela\n",
    "    true_labels_binary = binary_df['true_class']\n",
    "    \n",
    "    # ekstrakcija predvidjenih verovatnoća za versus klasu tj klasu 2 (jer poredimo class1 vs class2)\n",
    "    if class2 == 1:\n",
    "        predicted_probs_binary = binary_df['prob_class_1']\n",
    "    elif class2 == 0:\n",
    "        predicted_probs_binary = binary_df['prob_class_0']\n",
    "    else:\n",
    "        predicted_probs_binary = binary_df['prob_class_2']\n",
    "\n",
    "    if class2 < class1: # class2 = 0 and class1 = 1\n",
    "        # da bismo osigurali konzistentnost računanja AUC-a.\n",
    "        # ako je class1 = 0 class2 = 1 tj. class1<class0, po difoltu ce class1 biti uzeta kao negativna klasa a class2 kao pozitivna klasa \n",
    "        auc = roc_auc_score(1 - true_labels_binary, predicted_probs_binary) # 1 - true_labels_binary zato sto sada ciljamo drugu klasu \n",
    "    else:\n",
    "        auc = roc_auc_score(true_labels_binary, predicted_probs_binary) # 0.8024634563944455 salju se 0 i 1 true, a \n",
    "    # auc10 = roc_auc_score(1-true_labels_binary,predicted_probs_binary2)\n",
    "    \n",
    "    return auc"
   ],
   "metadata": {
    "collapsed": false,
    "ExecuteTime": {
     "end_time": "2024-05-26T16:07:02.816378100Z",
     "start_time": "2024-05-26T16:07:02.785999Z"
    }
   },
   "id": "8c33d159cad61c3c"
  },
  {
   "cell_type": "code",
   "execution_count": 726,
   "outputs": [
    {
     "data": {
      "text/plain": "0.5002884605064024"
     },
     "execution_count": 726,
     "metadata": {},
     "output_type": "execute_result"
    }
   ],
   "source": [
    "#{'Pass': 0, 'Withdrawn': 1, 'Distinction': 2}\n",
    "auc01 = get_auc_score(y_pred_and_true,0,1) # koliko dobro hvatam 1 u nulama i jedinicama \n",
    "# koliko sam puta predivideo da je bila jedinica kad je stvarno bila jedinica u odnosu na to koliko sam puta predvideo da je 1 kad je bila 0? \n",
    "auc02 = get_auc_score(y_pred_and_true,0,2) # koliko dobro hvatam 2 u nulama i dvojakama\n",
    "auc10 = get_auc_score(y_pred_and_true,1,0) # koliko dobro hvatam 0 u nulama i jedinicama\n",
    "auc20 = get_auc_score(y_pred_and_true,2,0) # koliko dobro hvatam 0 u nulama i dvojakama 0.4884847815351025 !!! model ne zna da prepozna pass kategoriju medju onima koji su distinction. \n",
    "auc12 = get_auc_score(y_pred_and_true,1,2) \n",
    "auc21 = get_auc_score(y_pred_and_true,2,1)\n",
    "sum = auc01+auc10+auc20+auc02+auc12+auc21\n",
    "auc20     "
   ],
   "metadata": {
    "collapsed": false,
    "ExecuteTime": {
     "end_time": "2024-05-26T16:07:07.684430800Z",
     "start_time": "2024-05-26T16:07:07.608991200Z"
    }
   },
   "id": "831821c737b01a12"
  },
  {
   "cell_type": "code",
   "execution_count": 727,
   "outputs": [
    {
     "data": {
      "text/plain": "0.7516258248743933"
     },
     "execution_count": 727,
     "metadata": {},
     "output_type": "execute_result"
    }
   ],
   "source": [
    "sum/(3*2) # prosecan auc !!!"
   ],
   "metadata": {
    "collapsed": false,
    "ExecuteTime": {
     "end_time": "2024-05-26T16:07:12.066498300Z",
     "start_time": "2024-05-26T16:07:12.047160600Z"
    }
   },
   "id": "b8d18484cd696fc6"
  },
  {
   "cell_type": "code",
   "execution_count": 728,
   "outputs": [],
   "source": [
    "def get_scores_for_model(y_pred_and_true):\n",
    "    auc_scores = []\n",
    "    class_labels = [0,1,2]\n",
    "    for i in range(len(class_labels)):\n",
    "        for j in range(len(class_labels)):\n",
    "            if class_labels[i]!= class_labels[j]:\n",
    "                result_auc = get_auc_score(y_pred_and_true,class_labels[i],class_labels[j])\n",
    "                result_dictionary = {\n",
    "                    'AUC':result_auc,\n",
    "                    'target_class':class_labels[j],\n",
    "                    'versus_class':class_labels[i]\n",
    "                }\n",
    "                auc_scores.append(result_dictionary) \n",
    "    return auc_scores"
   ],
   "metadata": {
    "collapsed": false,
    "ExecuteTime": {
     "end_time": "2024-05-26T16:07:16.603793500Z",
     "start_time": "2024-05-26T16:07:16.549452600Z"
    }
   },
   "id": "48d5afd496507d4d"
  },
  {
   "cell_type": "code",
   "execution_count": 729,
   "outputs": [
    {
     "data": {
      "text/plain": "        AUC  target_class  versus_class                         model\n0  0.830692             1             0     Random Forrest Classifier\n1  0.670268             2             0     Random Forrest Classifier\n2  0.803083             0             1     Random Forrest Classifier\n3  0.879455             2             1     Random Forrest Classifier\n4  0.515107             0             2     Random Forrest Classifier\n5  0.891772             1             2     Random Forrest Classifier\n0  0.830236             1             0  Gradient Boosting Classifier\n1  0.689264             2             0  Gradient Boosting Classifier\n2  0.803464             0             1  Gradient Boosting Classifier\n3  0.891943             2             1  Gradient Boosting Classifier\n4  0.537943             0             2  Gradient Boosting Classifier\n5  0.890083             1             2  Gradient Boosting Classifier\n0  0.823047             1             0                           SVC\n1  0.656073             2             0                           SVC\n2  0.807694             0             1                           SVC\n3  0.884671             2             1                           SVC\n4  0.478113             0             2                           SVC\n5  0.879340             1             2                           SVC\n0  0.812826             1             0           Logistic Regression\n1  0.653485             2             0           Logistic Regression\n2  0.797285             0             1           Logistic Regression\n3  0.874509             2             1           Logistic Regression\n4  0.500288             0             2           Logistic Regression\n5  0.871361             1             2           Logistic Regression",
      "text/html": "<div>\n<style scoped>\n    .dataframe tbody tr th:only-of-type {\n        vertical-align: middle;\n    }\n\n    .dataframe tbody tr th {\n        vertical-align: top;\n    }\n\n    .dataframe thead th {\n        text-align: right;\n    }\n</style>\n<table border=\"1\" class=\"dataframe\">\n  <thead>\n    <tr style=\"text-align: right;\">\n      <th></th>\n      <th>AUC</th>\n      <th>target_class</th>\n      <th>versus_class</th>\n      <th>model</th>\n    </tr>\n  </thead>\n  <tbody>\n    <tr>\n      <th>0</th>\n      <td>0.830692</td>\n      <td>1</td>\n      <td>0</td>\n      <td>Random Forrest Classifier</td>\n    </tr>\n    <tr>\n      <th>1</th>\n      <td>0.670268</td>\n      <td>2</td>\n      <td>0</td>\n      <td>Random Forrest Classifier</td>\n    </tr>\n    <tr>\n      <th>2</th>\n      <td>0.803083</td>\n      <td>0</td>\n      <td>1</td>\n      <td>Random Forrest Classifier</td>\n    </tr>\n    <tr>\n      <th>3</th>\n      <td>0.879455</td>\n      <td>2</td>\n      <td>1</td>\n      <td>Random Forrest Classifier</td>\n    </tr>\n    <tr>\n      <th>4</th>\n      <td>0.515107</td>\n      <td>0</td>\n      <td>2</td>\n      <td>Random Forrest Classifier</td>\n    </tr>\n    <tr>\n      <th>5</th>\n      <td>0.891772</td>\n      <td>1</td>\n      <td>2</td>\n      <td>Random Forrest Classifier</td>\n    </tr>\n    <tr>\n      <th>0</th>\n      <td>0.830236</td>\n      <td>1</td>\n      <td>0</td>\n      <td>Gradient Boosting Classifier</td>\n    </tr>\n    <tr>\n      <th>1</th>\n      <td>0.689264</td>\n      <td>2</td>\n      <td>0</td>\n      <td>Gradient Boosting Classifier</td>\n    </tr>\n    <tr>\n      <th>2</th>\n      <td>0.803464</td>\n      <td>0</td>\n      <td>1</td>\n      <td>Gradient Boosting Classifier</td>\n    </tr>\n    <tr>\n      <th>3</th>\n      <td>0.891943</td>\n      <td>2</td>\n      <td>1</td>\n      <td>Gradient Boosting Classifier</td>\n    </tr>\n    <tr>\n      <th>4</th>\n      <td>0.537943</td>\n      <td>0</td>\n      <td>2</td>\n      <td>Gradient Boosting Classifier</td>\n    </tr>\n    <tr>\n      <th>5</th>\n      <td>0.890083</td>\n      <td>1</td>\n      <td>2</td>\n      <td>Gradient Boosting Classifier</td>\n    </tr>\n    <tr>\n      <th>0</th>\n      <td>0.823047</td>\n      <td>1</td>\n      <td>0</td>\n      <td>SVC</td>\n    </tr>\n    <tr>\n      <th>1</th>\n      <td>0.656073</td>\n      <td>2</td>\n      <td>0</td>\n      <td>SVC</td>\n    </tr>\n    <tr>\n      <th>2</th>\n      <td>0.807694</td>\n      <td>0</td>\n      <td>1</td>\n      <td>SVC</td>\n    </tr>\n    <tr>\n      <th>3</th>\n      <td>0.884671</td>\n      <td>2</td>\n      <td>1</td>\n      <td>SVC</td>\n    </tr>\n    <tr>\n      <th>4</th>\n      <td>0.478113</td>\n      <td>0</td>\n      <td>2</td>\n      <td>SVC</td>\n    </tr>\n    <tr>\n      <th>5</th>\n      <td>0.879340</td>\n      <td>1</td>\n      <td>2</td>\n      <td>SVC</td>\n    </tr>\n    <tr>\n      <th>0</th>\n      <td>0.812826</td>\n      <td>1</td>\n      <td>0</td>\n      <td>Logistic Regression</td>\n    </tr>\n    <tr>\n      <th>1</th>\n      <td>0.653485</td>\n      <td>2</td>\n      <td>0</td>\n      <td>Logistic Regression</td>\n    </tr>\n    <tr>\n      <th>2</th>\n      <td>0.797285</td>\n      <td>0</td>\n      <td>1</td>\n      <td>Logistic Regression</td>\n    </tr>\n    <tr>\n      <th>3</th>\n      <td>0.874509</td>\n      <td>2</td>\n      <td>1</td>\n      <td>Logistic Regression</td>\n    </tr>\n    <tr>\n      <th>4</th>\n      <td>0.500288</td>\n      <td>0</td>\n      <td>2</td>\n      <td>Logistic Regression</td>\n    </tr>\n    <tr>\n      <th>5</th>\n      <td>0.871361</td>\n      <td>1</td>\n      <td>2</td>\n      <td>Logistic Regression</td>\n    </tr>\n  </tbody>\n</table>\n</div>"
     },
     "execution_count": 729,
     "metadata": {},
     "output_type": "execute_result"
    }
   ],
   "source": [
    "final_list = []\n",
    "for probs in list_of_probs:\n",
    "    result_element = get_scores_for_model(probs)\n",
    "    final_list.append(result_element)\n",
    "rfc_df = pd.DataFrame(final_list[0])\n",
    "rfc_df['model'] = ['Random Forrest Classifier']*6\n",
    "gbc_df = pd.DataFrame(final_list[1])\n",
    "gbc_df['model'] = ['Gradient Boosting Classifier']*6\n",
    "svc_df = pd.DataFrame(final_list[2])\n",
    "svc_df['model'] = ['SVC']*6\n",
    "lr_df = pd.DataFrame(final_list[3])\n",
    "lr_df['model'] = ['Logistic Regression']*6\n",
    "metrics_df = pd.concat([rfc_df,gbc_df, svc_df, lr_df],axis=0)\n",
    "metrics_df"
   ],
   "metadata": {
    "collapsed": false,
    "ExecuteTime": {
     "end_time": "2024-05-26T16:07:23.840947400Z",
     "start_time": "2024-05-26T16:07:23.695844200Z"
    }
   },
   "id": "b0a10d85671c5c9f"
  }
 ],
 "metadata": {
  "kernelspec": {
   "display_name": "Python 3",
   "language": "python",
   "name": "python3"
  },
  "language_info": {
   "codemirror_mode": {
    "name": "ipython",
    "version": 2
   },
   "file_extension": ".py",
   "mimetype": "text/x-python",
   "name": "python",
   "nbconvert_exporter": "python",
   "pygments_lexer": "ipython2",
   "version": "2.7.6"
  }
 },
 "nbformat": 4,
 "nbformat_minor": 5
}
